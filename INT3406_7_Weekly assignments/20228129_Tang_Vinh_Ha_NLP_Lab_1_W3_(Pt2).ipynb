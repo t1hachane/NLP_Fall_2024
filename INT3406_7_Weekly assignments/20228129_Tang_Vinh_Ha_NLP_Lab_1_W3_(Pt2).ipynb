{
  "cells": [
    {
      "cell_type": "code",
      "source": [
        "!pip install nltk"
      ],
      "metadata": {
        "colab": {
          "base_uri": "https://localhost:8080/"
        },
        "id": "pZzT9RbY6q2Y",
        "outputId": "2df1b9ce-a060-4524-a83a-5c7d029b8ae6"
      },
      "execution_count": null,
      "outputs": [
        {
          "output_type": "stream",
          "name": "stdout",
          "text": [
            "Requirement already satisfied: nltk in /usr/local/lib/python3.10/dist-packages (3.8.1)\n",
            "Requirement already satisfied: click in /usr/local/lib/python3.10/dist-packages (from nltk) (8.1.7)\n",
            "Requirement already satisfied: joblib in /usr/local/lib/python3.10/dist-packages (from nltk) (1.4.2)\n",
            "Requirement already satisfied: regex>=2021.8.3 in /usr/local/lib/python3.10/dist-packages (from nltk) (2024.9.11)\n",
            "Requirement already satisfied: tqdm in /usr/local/lib/python3.10/dist-packages (from nltk) (4.66.5)\n"
          ]
        }
      ]
    },
    {
      "cell_type": "code",
      "source": [
        "sentences = [\n",
        "    \"The boy likes books\",\n",
        "    \"The books are bank books\",\n",
        "    \"Some books are on the table\",\n",
        "    \"Some boys books the table\",\n",
        "    \"The books has many likes\",\n",
        "    \"Many banks like books\"\n",
        "]"
      ],
      "metadata": {
        "id": "AErkMsPQ6tgY"
      },
      "execution_count": null,
      "outputs": []
    },
    {
      "cell_type": "code",
      "source": [
        "import nltk\n",
        "from nltk.tokenize import word_tokenize\n",
        "from nltk.corpus import wordnet\n",
        "from nltk.stem import WordNetLemmatizer\n",
        "\n",
        "# Download necessary nltk data (only need to do once)\n",
        "nltk.download('punkt')\n",
        "nltk.download('wordnet')\n",
        "nltk.download('omw-1.4')\n",
        "nltk.download('averaged_perceptron_tagger')"
      ],
      "metadata": {
        "colab": {
          "base_uri": "https://localhost:8080/"
        },
        "id": "enuw9BIX8Pzn",
        "outputId": "b5b51dec-e2f7-4b23-f415-ff8ee4904b93"
      },
      "execution_count": null,
      "outputs": [
        {
          "output_type": "stream",
          "name": "stderr",
          "text": [
            "[nltk_data] Downloading package punkt to /root/nltk_data...\n",
            "[nltk_data]   Unzipping tokenizers/punkt.zip.\n",
            "[nltk_data] Downloading package wordnet to /root/nltk_data...\n",
            "[nltk_data]   Package wordnet is already up-to-date!\n",
            "[nltk_data] Downloading package omw-1.4 to /root/nltk_data...\n",
            "[nltk_data]   Package omw-1.4 is already up-to-date!\n",
            "[nltk_data] Downloading package averaged_perceptron_tagger to\n",
            "[nltk_data]     /root/nltk_data...\n",
            "[nltk_data]   Unzipping taggers/averaged_perceptron_tagger.zip.\n"
          ]
        },
        {
          "output_type": "execute_result",
          "data": {
            "text/plain": [
              "True"
            ]
          },
          "metadata": {},
          "execution_count": 6
        }
      ]
    },
    {
      "cell_type": "code",
      "source": [
        "lemmatizer = WordNetLemmatizer()\n",
        "\n",
        "# Function to map NLTK POS tags to WordNet POS tags\n",
        "def get_wordnet_pos(treebank_tag):\n",
        "    if treebank_tag.startswith('J'):\n",
        "        return wordnet.ADJ\n",
        "    elif treebank_tag.startswith('V'):\n",
        "        return wordnet.VERB\n",
        "    elif treebank_tag.startswith('N'):\n",
        "        return wordnet.NOUN\n",
        "    elif treebank_tag.startswith('R'):\n",
        "        return wordnet.ADV\n",
        "    else:\n",
        "        return None\n",
        "\n",
        "# Process each sentence\n",
        "vocab_set = set()  # Use a set to store unique words\n",
        "for sentence in sentences:\n",
        "    # Tokenize sentence\n",
        "    tokens = word_tokenize(sentence.lower())\n",
        "\n",
        "    # Get part of speech for each word\n",
        "    pos_tags = nltk.pos_tag(tokens)\n",
        "\n",
        "    # Lemmatize each word using its POS tag\n",
        "    for word, pos in pos_tags:\n",
        "        wordnet_pos = get_wordnet_pos(pos) or wordnet.NOUN  # Default to noun if no POS match\n",
        "        lemmatized_word = lemmatizer.lemmatize(word, pos=wordnet_pos)\n",
        "        vocab_set.add(lemmatized_word)\n",
        "\n",
        "# Convert the set to a sorted list (optional)\n",
        "vocabulary = sorted(vocab_set)\n",
        "\n",
        "print(vocabulary)"
      ],
      "metadata": {
        "colab": {
          "base_uri": "https://localhost:8080/"
        },
        "id": "A_tFSXbd8ahn",
        "outputId": "8e4c6079-416e-452b-acf4-53a84ae1cf88"
      },
      "execution_count": null,
      "outputs": [
        {
          "output_type": "stream",
          "name": "stdout",
          "text": [
            "['bank', 'be', 'book', 'boy', 'have', 'like', 'many', 'on', 'some', 'table', 'the']\n"
          ]
        }
      ]
    }
  ],
  "metadata": {
    "colab": {
      "provenance": [],
      "toc_visible": true
    },
    "kernelspec": {
      "display_name": "Python 3",
      "name": "python3"
    },
    "language_info": {
      "name": "python"
    }
  },
  "nbformat": 4,
  "nbformat_minor": 0
}